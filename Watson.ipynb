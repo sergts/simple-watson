{
 "cells": [
  {
   "cell_type": "markdown",
   "metadata": {},
   "source": [
    "# IBM Watson своими руками"
   ]
  },
  {
   "cell_type": "markdown",
   "metadata": {},
   "source": [
    "https://allennlp.org/models"
   ]
  },
  {
   "cell_type": "code",
   "execution_count": 2,
   "metadata": {},
   "outputs": [],
   "source": [
    "from allennlp.predictors.predictor import Predictor\n",
    "import requests\n",
    "import json\n",
    "import warnings\n",
    "import wikipedia\n",
    "from wikipedia import DisambiguationError\n",
    "warnings.filterwarnings('ignore')"
   ]
  },
  {
   "cell_type": "markdown",
   "metadata": {},
   "source": [
    "### Загружаем две модели. \n",
    "\n",
    "Первая находит в текстве сущности: актеры, фильмы, компании, географические названия и тд.\n",
    "Вторая натренирована когда ей дают текст и вопрос по этому тексту - находить где в текстве будет ответ."
   ]
  },
  {
   "cell_type": "code",
   "execution_count": null,
   "metadata": {},
   "outputs": [],
   "source": [
    "!wget \"https://s3-us-west-2.amazonaws.com/allennlp/models/ner-model-2018.04.26.tar.gz\"\n",
    "!wget \"https://s3-us-west-2.amazonaws.com/allennlp/models/bidaf-model-2017.09.15-charpad.tar.gz\""
   ]
  },
  {
   "cell_type": "code",
   "execution_count": 4,
   "metadata": {},
   "outputs": [],
   "source": [
    "ner = predictor = Predictor.from_path(\"ner-model-2018.04.26.tar.gz\")\n",
    "bidaf = Predictor.from_path(\"bidaf-model-2017.09.15-charpad.tar.gz\")"
   ]
  },
  {
   "cell_type": "markdown",
   "metadata": {},
   "source": [
    "Эта функция достанет из вопроса \"сущности\""
   ]
  },
  {
   "cell_type": "code",
   "execution_count": 6,
   "metadata": {},
   "outputs": [],
   "source": [
    "def extract_terms(question):\n",
    "    entities = ner.predict(\n",
    "      sentence=question\n",
    "    )\n",
    "    terms = []\n",
    "    current_term = ''\n",
    "    for tag, word in zip(entities['tags'], entities['words']):\n",
    "        if tag[0] == 'U':\n",
    "            terms.append(word)\n",
    "        elif tag[0] == 'B':\n",
    "            current_term = word\n",
    "        elif tag[0] == 'I':\n",
    "            current_term += word\n",
    "        elif tag[0] == 'L':\n",
    "            terms.append(current_term + ' ' + word)\n",
    "    return terms"
   ]
  },
  {
   "cell_type": "markdown",
   "metadata": {},
   "source": [
    "Эта функция скачает в википедии страницы для найденных сущностей"
   ]
  },
  {
   "cell_type": "code",
   "execution_count": 7,
   "metadata": {},
   "outputs": [],
   "source": [
    "def search_wiki(terms):\n",
    "    full_text = []\n",
    "    for term in terms:\n",
    "        try:\n",
    "            full_text.append(wikipedia.page(term).content)\n",
    "        except DisambiguationError:\n",
    "            pages = wikipedia.search(term, results=2)\n",
    "            if term in pages: pages.remove(term)\n",
    "            for page in pages:\n",
    "                full_text.append(wikipedia.page(page).content)\n",
    "    return '\\n'.join(full_text)"
   ]
  },
  {
   "cell_type": "markdown",
   "metadata": {},
   "source": [
    "# Задаем вопрос"
   ]
  },
  {
   "cell_type": "code",
   "execution_count": 9,
   "metadata": {},
   "outputs": [
    {
     "name": "stdout",
     "output_type": "stream",
     "text": [
      "Please enter you question:\n",
      "What is the fourth planet from the Sun?\n",
      "Searching for terms:\n",
      "['Sun']\n",
      "\n",
      "Short exract from wiki text:\n",
      "The Sun is the star at the center of the Solar Sys...\n",
      "\n",
      "Computing the answer...\n",
      "\n",
      "The answer is (probably):\n",
      "Mars\n"
     ]
    }
   ],
   "source": [
    "print(\"Please enter you question:\")\n",
    "question = input()\n",
    "\n",
    "search_terms = extract_terms(question)\n",
    "print('Searching for terms:')\n",
    "print(search_terms)\n",
    "print()\n",
    "wiki_text = search_wiki(search_terms)\n",
    "print('Short exract from wiki text:')\n",
    "print(wiki_text[:50] + '...')\n",
    "print()\n",
    "\n",
    "print('Computing the answer...')\n",
    "print()\n",
    "\n",
    "answer = bidaf.predict(\n",
    "  passage=wiki_text,\n",
    "  question=question\n",
    ")\n",
    "print('The answer is (probably):')\n",
    "print(answer['best_span_str'])"
   ]
  },
  {
   "cell_type": "code",
   "execution_count": null,
   "metadata": {},
   "outputs": [],
   "source": []
  }
 ],
 "metadata": {
  "kernelspec": {
   "display_name": "Python 3",
   "language": "python",
   "name": "python3"
  },
  "language_info": {
   "codemirror_mode": {
    "name": "ipython",
    "version": 3
   },
   "file_extension": ".py",
   "mimetype": "text/x-python",
   "name": "python",
   "nbconvert_exporter": "python",
   "pygments_lexer": "ipython3",
   "version": "3.6.5"
  }
 },
 "nbformat": 4,
 "nbformat_minor": 2
}
